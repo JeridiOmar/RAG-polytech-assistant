{
 "cells": [
  {
   "cell_type": "code",
   "execution_count": 173,
   "id": "1f489130",
   "metadata": {},
   "outputs": [],
   "source": [
    "import numpy as np\n",
    "import pandas as pd\n",
    "import matplotlib.pyplot as plt\n",
    "import glob"
   ]
  },
  {
   "cell_type": "markdown",
   "id": "6e9bdc7d",
   "metadata": {},
   "source": [
    "## Experiment results loading"
   ]
  },
  {
   "cell_type": "code",
   "execution_count": 174,
   "id": "b798d1f1",
   "metadata": {
    "scrolled": true
   },
   "outputs": [
    {
     "data": {
      "text/html": [
       "<div>\n",
       "<style scoped>\n",
       "    .dataframe tbody tr th:only-of-type {\n",
       "        vertical-align: middle;\n",
       "    }\n",
       "\n",
       "    .dataframe tbody tr th {\n",
       "        vertical-align: top;\n",
       "    }\n",
       "\n",
       "    .dataframe thead th {\n",
       "        text-align: right;\n",
       "    }\n",
       "</style>\n",
       "<table border=\"1\" class=\"dataframe\">\n",
       "  <thead>\n",
       "    <tr style=\"text-align: right;\">\n",
       "      <th></th>\n",
       "      <th>question</th>\n",
       "      <th>ref</th>\n",
       "      <th>response</th>\n",
       "      <th>score</th>\n",
       "      <th>time</th>\n",
       "      <th>llm</th>\n",
       "      <th>transformer</th>\n",
       "      <th>k</th>\n",
       "    </tr>\n",
       "  </thead>\n",
       "  <tbody>\n",
       "    <tr>\n",
       "      <th>0</th>\n",
       "      <td>Qu'est-ce que Polytech Nantes ?</td>\n",
       "      <td>Polytech Nantes est une école d'ingénieurs pub...</td>\n",
       "      <td>Polytech Nantes est une école d'ingénieurs sit...</td>\n",
       "      <td>3.082689e-01</td>\n",
       "      <td>9.857143</td>\n",
       "      <td>mistralai</td>\n",
       "      <td>distiluse</td>\n",
       "      <td>3</td>\n",
       "    </tr>\n",
       "    <tr>\n",
       "      <th>1</th>\n",
       "      <td>Quand a été fondée l'école Polytech Nantes ?</td>\n",
       "      <td>L'école Polytech Nantes a été fondée en 2000.</td>\n",
       "      <td>L'école Polytech Nantes a été fondée en 2000.</td>\n",
       "      <td>-2.220446e-16</td>\n",
       "      <td>1.486257</td>\n",
       "      <td>mistralai</td>\n",
       "      <td>distiluse</td>\n",
       "      <td>3</td>\n",
       "    </tr>\n",
       "    <tr>\n",
       "      <th>2</th>\n",
       "      <td>Combien d'étudiants et de personnels l'école P...</td>\n",
       "      <td>L'école Polytech Nantes rassemble plus de 1 80...</td>\n",
       "      <td>Nous ne pouvons pas répondre à cette question ...</td>\n",
       "      <td>5.473194e-01</td>\n",
       "      <td>10.728487</td>\n",
       "      <td>mistralai</td>\n",
       "      <td>distiluse</td>\n",
       "      <td>3</td>\n",
       "    </tr>\n",
       "    <tr>\n",
       "      <th>3</th>\n",
       "      <td>Où sont situés les campus de Polytech Nantes ?</td>\n",
       "      <td>Les campus de Polytech Nantes sont situés à Na...</td>\n",
       "      <td>Les campus de Polytech Nantes sont situés à Na...</td>\n",
       "      <td>0.000000e+00</td>\n",
       "      <td>1.859739</td>\n",
       "      <td>mistralai</td>\n",
       "      <td>distiluse</td>\n",
       "      <td>3</td>\n",
       "    </tr>\n",
       "    <tr>\n",
       "      <th>4</th>\n",
       "      <td>Quels sont les avantages de choisir Polytech N...</td>\n",
       "      <td>Polytech Nantes offre des formations d'ingénie...</td>\n",
       "      <td>Les avantages de choisir Polytech Nantes sont ...</td>\n",
       "      <td>5.356090e-01</td>\n",
       "      <td>4.182326</td>\n",
       "      <td>mistralai</td>\n",
       "      <td>distiluse</td>\n",
       "      <td>3</td>\n",
       "    </tr>\n",
       "    <tr>\n",
       "      <th>...</th>\n",
       "      <td>...</td>\n",
       "      <td>...</td>\n",
       "      <td>...</td>\n",
       "      <td>...</td>\n",
       "      <td>...</td>\n",
       "      <td>...</td>\n",
       "      <td>...</td>\n",
       "      <td>...</td>\n",
       "    </tr>\n",
       "    <tr>\n",
       "      <th>95</th>\n",
       "      <td>Quelle est la particularité de Polytech Nantes?</td>\n",
       "      <td>Polytech Nantes se distingue par des formation...</td>\n",
       "      <td>Polytech Nantes est une école d'ingénierie de ...</td>\n",
       "      <td>2.857208e-01</td>\n",
       "      <td>10.324355</td>\n",
       "      <td>mistralai</td>\n",
       "      <td>flaubert</td>\n",
       "      <td>2</td>\n",
       "    </tr>\n",
       "    <tr>\n",
       "      <th>96</th>\n",
       "      <td>Quels sont les avantages de rejoindre Polytech...</td>\n",
       "      <td>Les avantages incluent des formations reconnue...</td>\n",
       "      <td>Les avantages de rejoindre Polytech Nantes son...</td>\n",
       "      <td>4.787661e-01</td>\n",
       "      <td>4.309658</td>\n",
       "      <td>mistralai</td>\n",
       "      <td>flaubert</td>\n",
       "      <td>2</td>\n",
       "    </tr>\n",
       "    <tr>\n",
       "      <th>97</th>\n",
       "      <td>Quelles sont les valeurs du réseau Polytech?</td>\n",
       "      <td>Les valeurs du réseau Polytech comprennent le ...</td>\n",
       "      <td>Les valeurs du réseau Polytech sont l'innovati...</td>\n",
       "      <td>4.011474e-01</td>\n",
       "      <td>10.321294</td>\n",
       "      <td>mistralai</td>\n",
       "      <td>flaubert</td>\n",
       "      <td>2</td>\n",
       "    </tr>\n",
       "    <tr>\n",
       "      <th>98</th>\n",
       "      <td>Quelle est la particularité de Polytech Nantes...</td>\n",
       "      <td>Chaque promotion d'ingénieur entrante à Polyte...</td>\n",
       "      <td>Polytech Nantes offre une forme de parrainage ...</td>\n",
       "      <td>3.408010e-01</td>\n",
       "      <td>4.691764</td>\n",
       "      <td>mistralai</td>\n",
       "      <td>flaubert</td>\n",
       "      <td>2</td>\n",
       "    </tr>\n",
       "    <tr>\n",
       "      <th>99</th>\n",
       "      <td>Quand se déroulera la 10ème édition d'Industri...</td>\n",
       "      <td>La 10ème édition d'Industri'elles, le jeu de r...</td>\n",
       "      <td>Nous n'avons pas pu trouver d'information spéc...</td>\n",
       "      <td>4.665199e-01</td>\n",
       "      <td>10.690649</td>\n",
       "      <td>mistralai</td>\n",
       "      <td>flaubert</td>\n",
       "      <td>2</td>\n",
       "    </tr>\n",
       "  </tbody>\n",
       "</table>\n",
       "<p>1795 rows × 8 columns</p>\n",
       "</div>"
      ],
      "text/plain": [
       "                                             question  \\\n",
       "0                     Qu'est-ce que Polytech Nantes ?   \n",
       "1        Quand a été fondée l'école Polytech Nantes ?   \n",
       "2   Combien d'étudiants et de personnels l'école P...   \n",
       "3      Où sont situés les campus de Polytech Nantes ?   \n",
       "4   Quels sont les avantages de choisir Polytech N...   \n",
       "..                                                ...   \n",
       "95    Quelle est la particularité de Polytech Nantes?   \n",
       "96  Quels sont les avantages de rejoindre Polytech...   \n",
       "97       Quelles sont les valeurs du réseau Polytech?   \n",
       "98  Quelle est la particularité de Polytech Nantes...   \n",
       "99  Quand se déroulera la 10ème édition d'Industri...   \n",
       "\n",
       "                                                  ref  \\\n",
       "0   Polytech Nantes est une école d'ingénieurs pub...   \n",
       "1       L'école Polytech Nantes a été fondée en 2000.   \n",
       "2   L'école Polytech Nantes rassemble plus de 1 80...   \n",
       "3   Les campus de Polytech Nantes sont situés à Na...   \n",
       "4   Polytech Nantes offre des formations d'ingénie...   \n",
       "..                                                ...   \n",
       "95  Polytech Nantes se distingue par des formation...   \n",
       "96  Les avantages incluent des formations reconnue...   \n",
       "97  Les valeurs du réseau Polytech comprennent le ...   \n",
       "98  Chaque promotion d'ingénieur entrante à Polyte...   \n",
       "99  La 10ème édition d'Industri'elles, le jeu de r...   \n",
       "\n",
       "                                             response         score  \\\n",
       "0   Polytech Nantes est une école d'ingénieurs sit...  3.082689e-01   \n",
       "1       L'école Polytech Nantes a été fondée en 2000. -2.220446e-16   \n",
       "2   Nous ne pouvons pas répondre à cette question ...  5.473194e-01   \n",
       "3   Les campus de Polytech Nantes sont situés à Na...  0.000000e+00   \n",
       "4   Les avantages de choisir Polytech Nantes sont ...  5.356090e-01   \n",
       "..                                                ...           ...   \n",
       "95  Polytech Nantes est une école d'ingénierie de ...  2.857208e-01   \n",
       "96  Les avantages de rejoindre Polytech Nantes son...  4.787661e-01   \n",
       "97  Les valeurs du réseau Polytech sont l'innovati...  4.011474e-01   \n",
       "98  Polytech Nantes offre une forme de parrainage ...  3.408010e-01   \n",
       "99  Nous n'avons pas pu trouver d'information spéc...  4.665199e-01   \n",
       "\n",
       "         time        llm transformer  k  \n",
       "0    9.857143  mistralai   distiluse  3  \n",
       "1    1.486257  mistralai   distiluse  3  \n",
       "2   10.728487  mistralai   distiluse  3  \n",
       "3    1.859739  mistralai   distiluse  3  \n",
       "4    4.182326  mistralai   distiluse  3  \n",
       "..        ...        ...         ... ..  \n",
       "95  10.324355  mistralai    flaubert  2  \n",
       "96   4.309658  mistralai    flaubert  2  \n",
       "97  10.321294  mistralai    flaubert  2  \n",
       "98   4.691764  mistralai    flaubert  2  \n",
       "99  10.690649  mistralai    flaubert  2  \n",
       "\n",
       "[1795 rows x 8 columns]"
      ]
     },
     "execution_count": 174,
     "metadata": {},
     "output_type": "execute_result"
    }
   ],
   "source": [
    "results_files = glob.glob('H:\\\\pred\\\\experiments\\\\benchmarks\\\\*.{type}'.format(type='csv'))\n",
    "results = pd.DataFrame()\n",
    "for file in results_files:\n",
    "    csv = pd.read_csv(file)\n",
    "    results = results.append(csv)\n",
    "# sumplifiy llm names \n",
    "results=results.replace({'google/gemma-7b-it': 'gemma'}, regex=True)\n",
    "results=results.replace({'mistralai/Mistral-7B-Instruct-v0.2': 'mistralai'}, regex=True)\n",
    "results=results.replace({'meta-llama/Llama-2-7b-hf': 'llama'}, regex=True)\n",
    "# Simplify encoders names\n",
    "results=results.replace({'distiluse-base-multilingual-cased-v2': 'distiluse'}, regex=True)\n",
    "results=results.replace({'dangvantuan/sentence-camembert-base': 'camembert'}, regex=True)\n",
    "results=results.replace({'Lajavaness/sentence-flaubert-base': 'flaubert'}, regex=True)\n",
    "results = results[results['llm'] != 'gemma']\n",
    "results\n"
   ]
  },
  {
   "cell_type": "markdown",
   "id": "abf8d454",
   "metadata": {},
   "source": [
    "## Average time per llm, embedding, k"
   ]
  },
  {
   "cell_type": "code",
   "execution_count": 177,
   "id": "b395b125",
   "metadata": {},
   "outputs": [
    {
     "name": "stdout",
     "output_type": "stream",
     "text": [
      "model llama and embedding camembert and (k=2)  average time : 32.64786686800947\n",
      "model llama and embedding camembert and (k=3)  average time : 32.98924640453223\n",
      "model llama and embedding camembert and (k=4)  average time : 91.03602171185041\n",
      "model llama and embedding distiluse and (k=2)  average time : 11.291915731430054\n",
      "model llama and embedding distiluse and (k=3)  average time : 11.71758229970932\n",
      "model llama and embedding distiluse and (k=4)  average time : 25.205450074672697\n",
      "model llama and embedding flaubert and (k=2)  average time : 11.605884923934937\n",
      "model llama and embedding flaubert and (k=3)  average time : 11.968497626781463\n",
      "model llama and embedding flaubert and (k=4)  average time : 31.5801821046946\n",
      "model mistralai and embedding camembert and (k=2)  average time : 7.378012919425965\n",
      "model mistralai and embedding camembert and (k=3)  average time : 7.859257972240448\n",
      "model mistralai and embedding camembert and (k=4)  average time : 8.601726248264313\n",
      "model mistralai and embedding distiluse and (k=2)  average time : 6.645688052177429\n",
      "model mistralai and embedding distiluse and (k=3)  average time : 7.6290970396995545\n",
      "model mistralai and embedding distiluse and (k=4)  average time : 8.060672686100006\n",
      "model mistralai and embedding flaubert and (k=2)  average time : 6.938725447654724\n",
      "model mistralai and embedding flaubert and (k=3)  average time : 7.342065887451172\n",
      "model mistralai and embedding flaubert and (k=4)  average time : 7.214548938274383\n"
     ]
    }
   ],
   "source": [
    "for res in results.groupby(['llm','transformer','k']):\n",
    "    print(\"model {model} and embedding {enc} and (k={k})  average time : {time}\".format(model =res[0][0], enc =res[0][1], time =res[1]['time'].mean(),k =res[1]['k'][0]))\n",
    "    "
   ]
  },
  {
   "cell_type": "markdown",
   "id": "c44cba3a",
   "metadata": {},
   "source": [
    "## Average scores per llm, embedding, k"
   ]
  },
  {
   "cell_type": "code",
   "execution_count": 178,
   "id": "150fc60f",
   "metadata": {},
   "outputs": [
    {
     "name": "stdout",
     "output_type": "stream",
     "text": [
      "model llama and embedding camembert and (k=2)  average score : 0.5655072343180233\n",
      "model llama and embedding camembert and (k=3)  average score : 0.5522640428383854\n",
      "model llama and embedding camembert and (k=4)  average score : 0.5629168742569582\n",
      "model llama and embedding distiluse and (k=2)  average score : 0.6601402545739196\n",
      "model llama and embedding distiluse and (k=3)  average score : 0.635214710657573\n",
      "model llama and embedding distiluse and (k=4)  average score : 0.6298831094104004\n",
      "model llama and embedding flaubert and (k=2)  average score : 0.5194528544712977\n",
      "model llama and embedding flaubert and (k=3)  average score : 0.5132900090506893\n",
      "model llama and embedding flaubert and (k=4)  average score : 0.5206447641688777\n",
      "model mistralai and embedding camembert and (k=2)  average score : 0.29604127934947144\n",
      "model mistralai and embedding camembert and (k=3)  average score : 0.2675215861184039\n",
      "model mistralai and embedding camembert and (k=4)  average score : 0.25166736176980176\n",
      "model mistralai and embedding distiluse and (k=2)  average score : 0.42567452516538595\n",
      "model mistralai and embedding distiluse and (k=3)  average score : 0.41335558229228686\n",
      "model mistralai and embedding distiluse and (k=4)  average score : 0.38029841169114337\n",
      "model mistralai and embedding flaubert and (k=2)  average score : 0.28765117835765197\n",
      "model mistralai and embedding flaubert and (k=3)  average score : 0.26688492625027166\n",
      "model mistralai and embedding flaubert and (k=4)  average score : 0.26278993735950434\n"
     ]
    }
   ],
   "source": [
    "for res in results.groupby(['llm','transformer','k']):\n",
    "    print(\"model {model} and embedding {enc} and (k={k})  average score : {score}\".format(model =res[0][0], enc =res[0][1], score =res[1]['score'].mean(),k =res[1]['k'][0]))\n",
    "    "
   ]
  },
  {
   "cell_type": "markdown",
   "id": "5ba98413",
   "metadata": {},
   "source": [
    "## Overall stats"
   ]
  },
  {
   "cell_type": "code",
   "execution_count": 179,
   "id": "31007087",
   "metadata": {},
   "outputs": [
    {
     "data": {
      "text/plain": [
       "<AxesSubplot:xlabel='llm,transformer,k'>"
      ]
     },
     "execution_count": 179,
     "metadata": {},
     "output_type": "execute_result"
    },
    {
     "data": {
      "image/png": "[encoded data removed]",
      "text/plain": [
       "<Figure size 432x288 with 1 Axes>"
      ]
     },
     "metadata": {
      "needs_background": "light"
     },
     "output_type": "display_data"
    }
   ],
   "source": [
    "results.sort_values(by='time').groupby(['llm','transformer','k'])['time'].mean().plot(kind='bar')\n"
   ]
  },
  {
   "cell_type": "code",
   "execution_count": 180,
   "id": "521b6db9",
   "metadata": {},
   "outputs": [
    {
     "data": {
      "text/plain": [
       "<AxesSubplot:xlabel='llm,transformer,k'>"
      ]
     },
     "execution_count": 180,
     "metadata": {},
     "output_type": "execute_result"
    },
    {
     "data": {
      "image/png": "[encoded data removed]",
      "text/plain": [
       "<Figure size 432x288 with 1 Axes>"
      ]
     },
     "metadata": {
      "needs_background": "light"
     },
     "output_type": "display_data"
    }
   ],
   "source": [
    "results.groupby(['llm','transformer','k'])['score'].mean().plot(kind='bar')\n"
   ]
  },
  {
   "cell_type": "code",
   "execution_count": null,
   "id": "35da1329",
   "metadata": {},
   "outputs": [],
   "source": []
  }
 ],
 "metadata": {
  "kernelspec": {
   "display_name": "Python 3",
   "language": "python",
   "name": "python3"
  },
  "language_info": {
   "codemirror_mode": {
    "name": "ipython",
    "version": 3
   },
   "file_extension": ".py",
   "mimetype": "text/x-python",
   "name": "python",
   "nbconvert_exporter": "python",
   "pygments_lexer": "ipython3",
   "version": "3.8.8"
  }
 },
 "nbformat": 4,
 "nbformat_minor": 5
}
